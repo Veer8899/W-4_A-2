{
 "cells": [
  {
   "cell_type": "markdown",
   "id": "b095a841-7bef-4bac-956a-60727e6e17a6",
   "metadata": {},
   "source": [
    "## Q1. What is Abstraction in OOps? Explain with an example."
   ]
  },
  {
   "cell_type": "markdown",
   "id": "e9f7705e-a261-421e-829c-f04c70546ef3",
   "metadata": {},
   "source": [
    "## Abstraction: It is the process of hiding the internal details and showing functionality. for example: Phone call, App Installation etc"
   ]
  },
  {
   "cell_type": "code",
   "execution_count": 1,
   "id": "c4ce3da1-0218-475d-a5b6-25a110933b9e",
   "metadata": {},
   "outputs": [],
   "source": [
    "class Car:\n",
    "    def start_engine(self):\n",
    "        return \"Engine started.\"\n",
    "        \n",
    "    def accelerate(self):\n",
    "        return \"car accelerating\"\n",
    "    \n",
    "    def brake(self):\n",
    "        return \"car braking.\"\n",
    "    \n",
    "    def change_gears(self, gear):\n",
    "        return \"gear changed to\", gear"
   ]
  },
  {
   "cell_type": "code",
   "execution_count": 2,
   "id": "ea6bcc58-8e45-4b1e-bb08-132783f13c9d",
   "metadata": {},
   "outputs": [
    {
     "data": {
      "text/plain": [
       "'Engine started.'"
      ]
     },
     "execution_count": 2,
     "metadata": {},
     "output_type": "execute_result"
    }
   ],
   "source": [
    "my_car = Car()\n",
    "my_car.start_engine()"
   ]
  },
  {
   "cell_type": "code",
   "execution_count": 3,
   "id": "2cb3d07e-fb09-4f87-a301-640af3f5e8a5",
   "metadata": {},
   "outputs": [
    {
     "data": {
      "text/plain": [
       "'car accelerating'"
      ]
     },
     "execution_count": 3,
     "metadata": {},
     "output_type": "execute_result"
    }
   ],
   "source": [
    "my_car.accelerate()"
   ]
  },
  {
   "cell_type": "code",
   "execution_count": 4,
   "id": "c389283e-a078-4bd6-9107-50e541788c0a",
   "metadata": {},
   "outputs": [
    {
     "data": {
      "text/plain": [
       "('gear changed to', 2)"
      ]
     },
     "execution_count": 4,
     "metadata": {},
     "output_type": "execute_result"
    }
   ],
   "source": [
    "my_car.change_gears(2)"
   ]
  },
  {
   "cell_type": "markdown",
   "id": "ee158671-608c-4105-b072-578459e712cb",
   "metadata": {},
   "source": [
    "## Q2. Differentiate between Abstraction and Encapsulation. Explain with an example."
   ]
  },
  {
   "cell_type": "markdown",
   "id": "1b88eff8-ee74-40f0-9e22-ecb5a2754af7",
   "metadata": {},
   "source": [
    "#### Encapsulation: It is the process of binding the data and hiding the attributes of data and it's behavior in a single unit. for example: medicine Capsule.\n"
   ]
  },
  {
   "cell_type": "code",
   "execution_count": 5,
   "id": "f7180f20-b196-4919-82d6-bf25fec27939",
   "metadata": {},
   "outputs": [],
   "source": [
    "class bank_account :\n",
    "    def __init__(self, balance):\n",
    "        self.__balance = balance\n",
    "     \n",
    "    def deposit(self, amount):\n",
    "        self.__balance = self.__balance + amount\n",
    "        \n",
    "    def withdraw(self, amount):\n",
    "        if self.__balance >= amount:\n",
    "            self.__balance = self.__balance - amount\n",
    "            return True\n",
    "        else:\n",
    "            return False\n",
    "    \n",
    "    def get_balance(self):\n",
    "        return self.__balance"
   ]
  },
  {
   "cell_type": "code",
   "execution_count": 7,
   "id": "81176f4d-0f42-4355-9ad3-bcdff0a07981",
   "metadata": {},
   "outputs": [],
   "source": [
    "raj = bank_account(5000)"
   ]
  },
  {
   "cell_type": "code",
   "execution_count": 8,
   "id": "40409a2d-03d7-4ff3-822e-8f27bfe2d164",
   "metadata": {},
   "outputs": [
    {
     "data": {
      "text/plain": [
       "5000"
      ]
     },
     "execution_count": 8,
     "metadata": {},
     "output_type": "execute_result"
    }
   ],
   "source": [
    "raj.get_balance()"
   ]
  },
  {
   "cell_type": "code",
   "execution_count": 9,
   "id": "dbf3db88-8121-4d2e-9e81-1c81470fde7b",
   "metadata": {},
   "outputs": [],
   "source": [
    "raj.deposit(5000)"
   ]
  },
  {
   "cell_type": "code",
   "execution_count": 10,
   "id": "bdc8f47b-e4d2-4fb7-970d-bae6d438f69f",
   "metadata": {},
   "outputs": [
    {
     "data": {
      "text/plain": [
       "10000"
      ]
     },
     "execution_count": 10,
     "metadata": {},
     "output_type": "execute_result"
    }
   ],
   "source": [
    "raj.get_balance()"
   ]
  },
  {
   "cell_type": "code",
   "execution_count": 11,
   "id": "563f7d9e-f943-4d29-8722-5c6bc20945b1",
   "metadata": {},
   "outputs": [],
   "source": [
    "raj.deposit(2000)"
   ]
  },
  {
   "cell_type": "code",
   "execution_count": 12,
   "id": "50eb52c0-fcf2-45a6-ad25-4f153ec0e44a",
   "metadata": {},
   "outputs": [
    {
     "data": {
      "text/plain": [
       "12000"
      ]
     },
     "execution_count": 12,
     "metadata": {},
     "output_type": "execute_result"
    }
   ],
   "source": [
    "raj.get_balance()"
   ]
  },
  {
   "cell_type": "code",
   "execution_count": 13,
   "id": "a31c27f2-f47d-4894-8eb3-ee6aeb342e7d",
   "metadata": {},
   "outputs": [
    {
     "data": {
      "text/plain": [
       "True"
      ]
     },
     "execution_count": 13,
     "metadata": {},
     "output_type": "execute_result"
    }
   ],
   "source": [
    "raj.withdraw(9000)"
   ]
  },
  {
   "cell_type": "code",
   "execution_count": 14,
   "id": "5fc0fb4a-667b-4f80-a585-1127ad949b20",
   "metadata": {},
   "outputs": [
    {
     "data": {
      "text/plain": [
       "3000"
      ]
     },
     "execution_count": 14,
     "metadata": {},
     "output_type": "execute_result"
    }
   ],
   "source": [
    "raj.get_balance()"
   ]
  },
  {
   "cell_type": "markdown",
   "id": "9dc4a573-08fe-48fe-b919-507da57eedde",
   "metadata": {},
   "source": [
    "#### Abstraction: It is the process of hiding the internal details and showing functionality. for example: Phone call, App                       Installation etc"
   ]
  },
  {
   "cell_type": "code",
   "execution_count": 15,
   "id": "581762bd-e3f5-484f-ade2-23404451be52",
   "metadata": {},
   "outputs": [],
   "source": [
    "class Car:\n",
    "    def start_engine(self):\n",
    "        return \"Engine started.\"\n",
    "        \n",
    "    def accelerate(self):\n",
    "        return \"car accelerating\"\n",
    "    \n",
    "    def brake(self):\n",
    "        return \"car braking.\"\n",
    "    \n",
    "    def change_gears(self, gear):\n",
    "        return \"gear changed to\", gear"
   ]
  },
  {
   "cell_type": "code",
   "execution_count": 16,
   "id": "daf006e5-5763-4265-a42d-2d3befb103e9",
   "metadata": {},
   "outputs": [
    {
     "data": {
      "text/plain": [
       "'Engine started.'"
      ]
     },
     "execution_count": 16,
     "metadata": {},
     "output_type": "execute_result"
    }
   ],
   "source": [
    "my_car = Car()\n",
    "my_car.start_engine()"
   ]
  },
  {
   "cell_type": "code",
   "execution_count": 17,
   "id": "b5d3b6a7-847f-435e-bc60-fefe53fd8e4f",
   "metadata": {},
   "outputs": [
    {
     "data": {
      "text/plain": [
       "'car accelerating'"
      ]
     },
     "execution_count": 17,
     "metadata": {},
     "output_type": "execute_result"
    }
   ],
   "source": [
    "my_car.accelerate()"
   ]
  },
  {
   "cell_type": "code",
   "execution_count": 19,
   "id": "69ea5a1b-bfdd-4697-bfba-fe1d4f587b98",
   "metadata": {},
   "outputs": [
    {
     "data": {
      "text/plain": [
       "('gear changed to', 5)"
      ]
     },
     "execution_count": 19,
     "metadata": {},
     "output_type": "execute_result"
    }
   ],
   "source": [
    "my_car.change_gears(5)"
   ]
  },
  {
   "cell_type": "markdown",
   "id": "5bd3bf1f-7080-4a57-aa9d-d70e79360909",
   "metadata": {},
   "source": [
    "## Q3. What is abc module in python? Why is it used?"
   ]
  },
  {
   "cell_type": "markdown",
   "id": "6f86ee26-b14d-4842-96de-4964468d33e1",
   "metadata": {},
   "source": [
    "#### The abc module in Python stands for \"Abstract Base Classes.\"  It provides infrastructure for creating abstract base classes. The abc module is used for defining abstract base classes. It also helps in achieving abstraction. It is also used for enforcing method implementation, creating subclasses and runtime checks."
   ]
  },
  {
   "cell_type": "code",
   "execution_count": 20,
   "id": "77e89d19-5107-4f56-9a30-834106232b00",
   "metadata": {},
   "outputs": [],
   "source": [
    "import abc\n",
    "class pwskills:\n",
    "    \n",
    "    @abc.abstractmethod\n",
    "    def students_details(self):\n",
    "        pass\n",
    "    \n",
    "    @abc.abstractmethod\n",
    "    def student_assignment(self):\n",
    "        pass\n",
    "    \n",
    "    @abc.abstractmethod\n",
    "    def student_marks(self):\n",
    "        pass"
   ]
  },
  {
   "cell_type": "code",
   "execution_count": 21,
   "id": "5b17c0fd-01fa-4a93-92bc-43f312b37d6f",
   "metadata": {},
   "outputs": [],
   "source": [
    "class student_details(pwskills):\n",
    "    \n",
    "    def student_details(self):\n",
    "        return \"this is a meth for taking students details\"\n",
    "    \n",
    "    def student_assignment(self):\n",
    "        return \"this is a meth for assign details for particular student\""
   ]
  },
  {
   "cell_type": "code",
   "execution_count": 22,
   "id": "3117ac33-0743-4bcc-9863-7a2531142a92",
   "metadata": {},
   "outputs": [],
   "source": [
    "class data_science_master(pwskills):\n",
    "    \n",
    "    def students_details(self):\n",
    "        return \"this will return a student details for data science masters\"\n",
    "    \n",
    "    def student_assignment(self):\n",
    "        return \"this will give you a student assignement details for data science masters\""
   ]
  },
  {
   "cell_type": "code",
   "execution_count": 23,
   "id": "5ab6a9b3-6876-49a4-a92f-6d8b4c48397c",
   "metadata": {},
   "outputs": [
    {
     "data": {
      "text/plain": [
       "'this will return a student details for data science masters'"
      ]
     },
     "execution_count": 23,
     "metadata": {},
     "output_type": "execute_result"
    }
   ],
   "source": [
    "dsm = data_science_master()\n",
    "dsm.students_details()"
   ]
  },
  {
   "cell_type": "code",
   "execution_count": 24,
   "id": "a5bf34b6-68cc-48e3-89a6-d55c9a53e668",
   "metadata": {},
   "outputs": [
    {
     "data": {
      "text/plain": [
       "'this is a meth for taking students details'"
      ]
     },
     "execution_count": 24,
     "metadata": {},
     "output_type": "execute_result"
    }
   ],
   "source": [
    "sd = student_details()\n",
    "sd.student_details()"
   ]
  },
  {
   "cell_type": "markdown",
   "id": "d6476a99-e366-4017-8349-70bc8ca960e8",
   "metadata": {},
   "source": [
    "## Q4. How can we achieve data abstraction?"
   ]
  },
  {
   "cell_type": "markdown",
   "id": "3b3caaaa-882a-4aab-a659-710d05db0468",
   "metadata": {},
   "source": [
    "#### Identify the relevant data\n",
    "#### Define the abstract data type\n",
    "#### Implement the abstract data type\n",
    "#### Encapsulate data and operations\n",
    "#### Hide implementation details\n",
    "#### Provide documentation"
   ]
  },
  {
   "cell_type": "code",
   "execution_count": 11,
   "id": "7261fb2e-15f6-49c8-bef4-9d50b4d2e32b",
   "metadata": {},
   "outputs": [],
   "source": [
    "import abc\n",
    "class pwskills:\n",
    "    \n",
    "    @abc.abstractmethod\n",
    "    def students_details(self):\n",
    "        pass\n",
    "    \n",
    "    @abc.abstractmethod\n",
    "    def student_assignment(self):\n",
    "        pass\n",
    "    \n",
    "    @abc.abstractmethod\n",
    "    def student_marks(self):\n",
    "        pass"
   ]
  },
  {
   "cell_type": "code",
   "execution_count": 12,
   "id": "f776c8dd-c885-4e2b-a5ff-646c9a5c0994",
   "metadata": {},
   "outputs": [],
   "source": [
    "class student_details(pwskills):\n",
    "    \n",
    "    def student_details(self):\n",
    "        return \"this is a meth for taking students details\"\n",
    "    \n",
    "    def student_assignment(self):\n",
    "        return \"this is a meth for assign details for particular student\""
   ]
  },
  {
   "cell_type": "code",
   "execution_count": 13,
   "id": "bef29059-6ec5-4de4-995a-5826e82d4d9e",
   "metadata": {},
   "outputs": [],
   "source": [
    "class data_science_master(pwskills):\n",
    "    \n",
    "    def students_details(self):\n",
    "        return \"this will return a student details for data science masters\"\n",
    "    \n",
    "    def student_assignment(self):\n",
    "        return \"this will give you a student assignement details for data science masters\""
   ]
  },
  {
   "cell_type": "code",
   "execution_count": 14,
   "id": "5fc92a6d-5121-401e-80de-115c761e6c89",
   "metadata": {},
   "outputs": [
    {
     "data": {
      "text/plain": [
       "'this will return a student details for data science masters'"
      ]
     },
     "execution_count": 14,
     "metadata": {},
     "output_type": "execute_result"
    }
   ],
   "source": [
    "dsm = data_science_master()\n",
    "dsm.students_details()"
   ]
  },
  {
   "cell_type": "code",
   "execution_count": 15,
   "id": "97c8edde-e003-4157-a3ee-50ebd0d8587b",
   "metadata": {},
   "outputs": [
    {
     "data": {
      "text/plain": [
       "'this is a meth for taking students details'"
      ]
     },
     "execution_count": 15,
     "metadata": {},
     "output_type": "execute_result"
    }
   ],
   "source": [
    "sd = student_details()\n",
    "sd.student_details()"
   ]
  },
  {
   "cell_type": "markdown",
   "id": "608aa909-b33f-4287-917d-9a8797d1ab48",
   "metadata": {},
   "source": [
    "## Q5. Can we create an instance of an abstract class? Explain your answer."
   ]
  },
  {
   "cell_type": "markdown",
   "id": "a38c2eef-b843-464a-902f-ca1814de6513",
   "metadata": {},
   "source": [
    "#### No, we cannot create an instance of an abstract class. Abstract class is a blueprint for other classes and abstract classes are also known as subclassed, abstract class is used to provide common interface for its subclasses. for example:"
   ]
  },
  {
   "cell_type": "code",
   "execution_count": 27,
   "id": "49e59e7c-3409-4d36-9f6c-ab8a117e0f7b",
   "metadata": {},
   "outputs": [],
   "source": [
    "from abc import ABC\n",
    "class abstractClass(ABC):\n",
    "    \n",
    "    @abc.abstractmethod\n",
    "    def abstract_method1(self):\n",
    "        pass"
   ]
  },
  {
   "cell_type": "code",
   "execution_count": 28,
   "id": "9edbc52d-ac09-438c-a480-6625ca3cf8ab",
   "metadata": {},
   "outputs": [],
   "source": [
    "def meth2(self):\n",
    "    return \"this is method 2\""
   ]
  },
  {
   "cell_type": "code",
   "execution_count": 29,
   "id": "00c4a38a-16da-472d-b5c2-e8c5dd9da82c",
   "metadata": {},
   "outputs": [
    {
     "ename": "TypeError",
     "evalue": "Can't instantiate abstract class abstractClass with abstract method abstract_method1",
     "output_type": "error",
     "traceback": [
      "\u001b[0;31m---------------------------------------------------------------------------\u001b[0m",
      "\u001b[0;31mTypeError\u001b[0m                                 Traceback (most recent call last)",
      "Cell \u001b[0;32mIn[29], line 1\u001b[0m\n\u001b[0;32m----> 1\u001b[0m instance \u001b[38;5;241m=\u001b[39m \u001b[43mabstractClass\u001b[49m\u001b[43m(\u001b[49m\u001b[43m)\u001b[49m\n",
      "\u001b[0;31mTypeError\u001b[0m: Can't instantiate abstract class abstractClass with abstract method abstract_method1"
     ]
    }
   ],
   "source": [
    "instance = abstractClass()"
   ]
  },
  {
   "cell_type": "code",
   "execution_count": null,
   "id": "485507f7-02af-4bb9-84a4-e6257dcd7dca",
   "metadata": {},
   "outputs": [],
   "source": []
  }
 ],
 "metadata": {
  "kernelspec": {
   "display_name": "Python 3 (ipykernel)",
   "language": "python",
   "name": "python3"
  },
  "language_info": {
   "codemirror_mode": {
    "name": "ipython",
    "version": 3
   },
   "file_extension": ".py",
   "mimetype": "text/x-python",
   "name": "python",
   "nbconvert_exporter": "python",
   "pygments_lexer": "ipython3",
   "version": "3.10.8"
  }
 },
 "nbformat": 4,
 "nbformat_minor": 5
}
